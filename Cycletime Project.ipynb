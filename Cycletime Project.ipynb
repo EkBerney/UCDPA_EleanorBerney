{
 "cells": [
  {
   "cell_type": "code",
   "execution_count": 1,
   "id": "3f8d7320-a41c-4047-80b1-ffc8a2aa222a",
   "metadata": {},
   "outputs": [],
   "source": [
    "# import packages\n",
    "import numpy as np\n",
    "import pandas as pd\n",
    "import matplotlib.pyplot as plt\n",
    "import seaborn as sns\n",
    "from datetime import datetime"
   ]
  },
  {
   "cell_type": "code",
   "execution_count": 2,
   "id": "6566cc8e-77cb-412c-9b1c-dc1ff1aa7e87",
   "metadata": {},
   "outputs": [],
   "source": [
    "# import DATA\n",
    "\n",
    "## Part detail\n",
    "Part_DF = pd.read_csv('Parts.csv')\n",
    "Part_DF.name = 'Parts'\n",
    "\n",
    "## Order detail\n",
    "Order_DF = pd.read_csv('Order.csv')\n",
    "Order_DF.name = 'Order'\n",
    "\n",
    "## Focus lists\n",
    "Focus_WC = ['WC002', 'WC013', 'WC015','WC020', 'WC026', 'WC030']\n",
    "Focus_Part = ['PN 54264', 'PN 59653', 'PN 60234', 'PN 53784', 'PN 54040']"
   ]
  },
  {
   "cell_type": "code",
   "execution_count": 3,
   "id": "a0c28e69-84b7-4397-b420-f2edc8e7e93e",
   "metadata": {},
   "outputs": [],
   "source": [
    "# define custom function\n",
    "\n",
    "def Check_Data(df) :\n",
    "    print('')   # empty line spacer\n",
    "    print('CHECK DATA - ' + df.name + ' DataFrame')  # Check Data heading\n",
    "    print(type(df))\n",
    "    print(df.head())  # show first rows of data\n",
    "    print(df.dtypes)    # show data types\n",
    "    print(df.shape)   # show overall size of DataFrame\n",
    "    print(df.isnull().sum())  # is there any empty data fields  \n",
    "    return "
   ]
  },
  {
   "cell_type": "code",
   "execution_count": 4,
   "id": "20f79d0d-2a1b-4fb0-92b5-19318a809f53",
   "metadata": {},
   "outputs": [
    {
     "name": "stdout",
     "output_type": "stream",
     "text": [
      "\n",
      "CHECK DATA - Parts DataFrame\n",
      "<class 'pandas.core.frame.DataFrame'>\n",
      "       Part ProcType Business Area Production Area  Planner    Buyer  \\\n",
      "0  PN 51396      Buy        BA 001       PROD 1001      NaN  BYR 006   \n",
      "1  PN 62167      Buy        BA 002       PROD 2001      NaN  BYR 009   \n",
      "2  PN 51395     Make        BA 001       PROD 1001  MRP 008      NaN   \n",
      "3  PN 51394     Make        BA 001       PROD 1001  MRP 004      NaN   \n",
      "4  PN 51397     Make        BA 001       PROD 1001  MRP 002      NaN   \n",
      "\n",
      "  Work Centre  Box Qty   SLoc ABC *   Std Cost   Std HRS   \n",
      "0         NaN      NaN  SL008   NaN        20.0       NaN  \n",
      "1         NaN      NaN  SL006   NaN        20.0       NaN  \n",
      "2       WC018      NaN  SL009     C        20.0    0.232   \n",
      "3       WC013      NaN  SL009     A        20.0    8.032   \n",
      "4       WC013      NaN  SL009     C        20.0    2.889   \n",
      "Part                object\n",
      "ProcType            object\n",
      "Business Area       object\n",
      "Production Area     object\n",
      "Planner             object\n",
      "Buyer               object\n",
      "Work Centre         object\n",
      "Box Qty            float64\n",
      "SLoc                object\n",
      "ABC *               object\n",
      " Std Cost          float64\n",
      " Std HRS            object\n",
      "dtype: object\n",
      "(18471, 12)\n",
      "Part                   0\n",
      "ProcType               0\n",
      "Business Area        505\n",
      "Production Area      505\n",
      "Planner             7336\n",
      "Buyer              11135\n",
      "Work Centre         7336\n",
      "Box Qty            17984\n",
      "SLoc                 838\n",
      "ABC *              13031\n",
      " Std Cost              0\n",
      " Std HRS            7336\n",
      "dtype: int64\n",
      "\n",
      "CHECK DATA - Order DataFrame\n",
      "<class 'pandas.core.frame.DataFrame'>\n",
      "       Order  Material    REL Date FO Due Date    CNF Date    DLV Date  \\\n",
      "0  FO6779062  PN 60572  2021-08-19  2022-01-04  2022-01-04  2022-01-04   \n",
      "1  FO6226652  PN 60937  2021-11-05  2022-01-06  2022-01-06  2022-01-06   \n",
      "2  FO6272070  PN 57880  2021-11-25  2022-01-05  2022-01-05  2022-01-05   \n",
      "3  FO6272079  PN 57880  2021-11-25  2022-01-05  2022-01-05  2022-01-06   \n",
      "4  FO6272966  PN 63013  2021-11-26  2022-01-05  2022-01-05  2022-01-05   \n",
      "\n",
      "  Quantity of goods received Ord.quantity  \n",
      "0                          1          NaN  \n",
      "1                        128          NaN  \n",
      "2                        NaN          NaN  \n",
      "3                        NaN          NaN  \n",
      "4                          4          NaN  \n",
      "Order                         object\n",
      "Material                      object\n",
      "REL Date                      object\n",
      "FO Due Date                   object\n",
      "CNF Date                      object\n",
      "DLV Date                      object\n",
      "Quantity of goods received    object\n",
      "Ord.quantity                  object\n",
      "dtype: object\n",
      "(8337, 8)\n",
      "Order                            0\n",
      "Material                         0\n",
      "REL Date                         0\n",
      "FO Due Date                      0\n",
      "CNF Date                       105\n",
      "DLV Date                         0\n",
      "Quantity of goods received      94\n",
      "Ord.quantity                  5086\n",
      "dtype: int64\n"
     ]
    }
   ],
   "source": [
    "# examine imported data\n",
    "Check_Data(Part_DF)\n",
    "Check_Data(Order_DF)"
   ]
  },
  {
   "cell_type": "code",
   "execution_count": 5,
   "id": "e004e92a-1b28-4537-9457-d6e05d2cc3d0",
   "metadata": {},
   "outputs": [
    {
     "name": "stdout",
     "output_type": "stream",
     "text": [
      "(18471, 12)\n",
      "(8337, 8)\n"
     ]
    }
   ],
   "source": [
    "# Clean data\n",
    "\n",
    "# check & remove any duplicates\n",
    "Part_DF = Part_DF.drop_duplicates('Part')\n",
    "print(Part_DF.shape)\n",
    "Order_DF = Order_DF.drop_duplicates('Order')\n",
    "print(Order_DF.shape)"
   ]
  },
  {
   "cell_type": "code",
   "execution_count": 6,
   "id": "5820ee59-b57c-42a2-94f7-499a1f78cacf",
   "metadata": {},
   "outputs": [
    {
     "data": {
      "text/html": [
       "<div>\n",
       "<style scoped>\n",
       "    .dataframe tbody tr th:only-of-type {\n",
       "        vertical-align: middle;\n",
       "    }\n",
       "\n",
       "    .dataframe tbody tr th {\n",
       "        vertical-align: top;\n",
       "    }\n",
       "\n",
       "    .dataframe thead th {\n",
       "        text-align: right;\n",
       "    }\n",
       "</style>\n",
       "<table border=\"1\" class=\"dataframe\">\n",
       "  <thead>\n",
       "    <tr style=\"text-align: right;\">\n",
       "      <th></th>\n",
       "      <th>Order</th>\n",
       "      <th>Material</th>\n",
       "      <th>REL Date</th>\n",
       "      <th>DLV Date</th>\n",
       "    </tr>\n",
       "  </thead>\n",
       "  <tbody>\n",
       "    <tr>\n",
       "      <th>0</th>\n",
       "      <td>FO6779062</td>\n",
       "      <td>PN 60572</td>\n",
       "      <td>2021-08-19</td>\n",
       "      <td>2022-01-04</td>\n",
       "    </tr>\n",
       "    <tr>\n",
       "      <th>1</th>\n",
       "      <td>FO6226652</td>\n",
       "      <td>PN 60937</td>\n",
       "      <td>2021-11-05</td>\n",
       "      <td>2022-01-06</td>\n",
       "    </tr>\n",
       "    <tr>\n",
       "      <th>2</th>\n",
       "      <td>FO6272070</td>\n",
       "      <td>PN 57880</td>\n",
       "      <td>2021-11-25</td>\n",
       "      <td>2022-01-05</td>\n",
       "    </tr>\n",
       "    <tr>\n",
       "      <th>3</th>\n",
       "      <td>FO6272079</td>\n",
       "      <td>PN 57880</td>\n",
       "      <td>2021-11-25</td>\n",
       "      <td>2022-01-06</td>\n",
       "    </tr>\n",
       "    <tr>\n",
       "      <th>4</th>\n",
       "      <td>FO6272966</td>\n",
       "      <td>PN 63013</td>\n",
       "      <td>2021-11-26</td>\n",
       "      <td>2022-01-05</td>\n",
       "    </tr>\n",
       "  </tbody>\n",
       "</table>\n",
       "</div>"
      ],
      "text/plain": [
       "       Order  Material    REL Date    DLV Date\n",
       "0  FO6779062  PN 60572  2021-08-19  2022-01-04\n",
       "1  FO6226652  PN 60937  2021-11-05  2022-01-06\n",
       "2  FO6272070  PN 57880  2021-11-25  2022-01-05\n",
       "3  FO6272079  PN 57880  2021-11-25  2022-01-06\n",
       "4  FO6272966  PN 63013  2021-11-26  2022-01-05"
      ]
     },
     "execution_count": 6,
     "metadata": {},
     "output_type": "execute_result"
    }
   ],
   "source": [
    "# Remove any columns no longer needed\n",
    "Order_DF = Order_DF[['Order','Material','REL Date','DLV Date']]   # only retain needed columns\n",
    "Order_DF.head()"
   ]
  },
  {
   "cell_type": "code",
   "execution_count": 7,
   "id": "a024e85d-c4f6-4e34-ae77-4f236c7359b9",
   "metadata": {},
   "outputs": [
    {
     "data": {
      "text/html": [
       "<div>\n",
       "<style scoped>\n",
       "    .dataframe tbody tr th:only-of-type {\n",
       "        vertical-align: middle;\n",
       "    }\n",
       "\n",
       "    .dataframe tbody tr th {\n",
       "        vertical-align: top;\n",
       "    }\n",
       "\n",
       "    .dataframe thead th {\n",
       "        text-align: right;\n",
       "    }\n",
       "</style>\n",
       "<table border=\"1\" class=\"dataframe\">\n",
       "  <thead>\n",
       "    <tr style=\"text-align: right;\">\n",
       "      <th></th>\n",
       "      <th>Part</th>\n",
       "      <th>Work Centre</th>\n",
       "    </tr>\n",
       "  </thead>\n",
       "  <tbody>\n",
       "    <tr>\n",
       "      <th>2</th>\n",
       "      <td>PN 51395</td>\n",
       "      <td>WC018</td>\n",
       "    </tr>\n",
       "    <tr>\n",
       "      <th>3</th>\n",
       "      <td>PN 51394</td>\n",
       "      <td>WC013</td>\n",
       "    </tr>\n",
       "    <tr>\n",
       "      <th>4</th>\n",
       "      <td>PN 51397</td>\n",
       "      <td>WC013</td>\n",
       "    </tr>\n",
       "    <tr>\n",
       "      <th>5</th>\n",
       "      <td>PN 51398</td>\n",
       "      <td>WC013</td>\n",
       "    </tr>\n",
       "    <tr>\n",
       "      <th>6</th>\n",
       "      <td>PN 63685</td>\n",
       "      <td>WC003</td>\n",
       "    </tr>\n",
       "  </tbody>\n",
       "</table>\n",
       "</div>"
      ],
      "text/plain": [
       "       Part Work Centre\n",
       "2  PN 51395       WC018\n",
       "3  PN 51394       WC013\n",
       "4  PN 51397       WC013\n",
       "5  PN 51398       WC013\n",
       "6  PN 63685       WC003"
      ]
     },
     "execution_count": 7,
     "metadata": {},
     "output_type": "execute_result"
    }
   ],
   "source": [
    "# Remove any columns no longer needed\n",
    "Part_DF = Part_DF[['Part','Work Centre']].dropna()   # only retain needed columns\n",
    "Part_DF.head()"
   ]
  },
  {
   "cell_type": "code",
   "execution_count": 8,
   "id": "da09f3d5-8ccd-4e6e-98c3-d2214ffb4b87",
   "metadata": {},
   "outputs": [
    {
     "data": {
      "text/plain": [
       "Order                object\n",
       "Material             object\n",
       "REL Date     datetime64[ns]\n",
       "DLV Date     datetime64[ns]\n",
       "DLV Month             int64\n",
       "dtype: object"
      ]
     },
     "execution_count": 8,
     "metadata": {},
     "output_type": "execute_result"
    }
   ],
   "source": [
    "# Convert FO dates to datetime data types\n",
    "Order_DF['REL Date'] = pd.to_datetime(Order_DF['REL Date'])\n",
    "Order_DF['DLV Date'] = pd.to_datetime(Order_DF['DLV Date'])\n",
    "Order_DF['DLV Month'] = Order_DF['DLV Date'].dt.month\n",
    "Order_DF.dtypes"
   ]
  },
  {
   "cell_type": "code",
   "execution_count": 9,
   "id": "e001df52-b545-419d-baa0-237840f5ade9",
   "metadata": {},
   "outputs": [
    {
     "data": {
      "text/plain": [
       "Order                 object\n",
       "Material              object\n",
       "REL Date      datetime64[ns]\n",
       "DLV Date      datetime64[ns]\n",
       "DLV Month              int64\n",
       "C-Time       timedelta64[ns]\n",
       "CycleTime              int64\n",
       "dtype: object"
      ]
     },
     "execution_count": 9,
     "metadata": {},
     "output_type": "execute_result"
    }
   ],
   "source": [
    "# calculate no. of days between FO start and end.\n",
    "Order_DF['C-Time'] = Order_DF['DLV Date'] - Order_DF['REL Date']\n",
    "Order_DF['CycleTime'] = Order_DF['C-Time'].dt.days\n",
    "Order_DF.dtypes"
   ]
  },
  {
   "cell_type": "code",
   "execution_count": 10,
   "id": "555955e6-69f7-4e0c-9c09-e3669e254529",
   "metadata": {},
   "outputs": [
    {
     "name": "stdout",
     "output_type": "stream",
     "text": [
      "       Order  Material   REL Date   DLV Date  DLV Month   C-Time  CycleTime  \\\n",
      "0  FO6779062  PN 60572 2021-08-19 2022-01-04          1 138 days        138   \n",
      "1  FO6299670  PN 60572 2022-05-25 2022-05-30          5   5 days          5   \n",
      "2  FO6226652  PN 60937 2021-11-05 2022-01-06          1  62 days         62   \n",
      "3  FO6222002  PN 60937 2022-05-16 2022-05-25          5   9 days          9   \n",
      "4  FO6296009  PN 60937 2022-06-01 2022-06-09          6   8 days          8   \n",
      "\n",
      "       Part Work Centre  \n",
      "0  PN 60572       WC018  \n",
      "1  PN 60572       WC018  \n",
      "2  PN 60937       WC041  \n",
      "3  PN 60937       WC041  \n",
      "4  PN 60937       WC041  \n"
     ]
    }
   ],
   "source": [
    "# Join tables\n",
    "Order_wc = Order_DF.merge(Part_DF, left_on='Material', right_on='Part')\n",
    "print(Order_wc.head())"
   ]
  },
  {
   "cell_type": "code",
   "execution_count": 11,
   "id": "e987f728-7ad3-4247-928e-5264563f65b8",
   "metadata": {},
   "outputs": [
    {
     "name": "stdout",
     "output_type": "stream",
     "text": [
      "           CycleTime\n",
      "Material            \n",
      "PN 60896  577.000000\n",
      "PN 60956  495.000000\n",
      "PN 60736  495.000000\n",
      "PN 60773  419.000000\n",
      "PN 60729  286.666667\n",
      "...              ...\n",
      "PN 65924    0.000000\n",
      "PN 68861    0.000000\n",
      "PN 66078    0.000000\n",
      "PN 66171    0.000000\n",
      "PN 66453    0.000000\n",
      "\n",
      "[2968 rows x 1 columns]\n"
     ]
    }
   ],
   "source": [
    "# Explore the data\n",
    "\n",
    "# Parts by cycletime\n",
    "Part_CycleTime = Order_wc.pivot_table(values='CycleTime', index='Material', aggfunc=np.mean).sort_values(['CycleTime'], ascending=False)\n",
    "print(Part_CycleTime)"
   ]
  },
  {
   "cell_type": "code",
   "execution_count": 12,
   "id": "2e3d2635-c0e9-48ad-a257-557a516500b5",
   "metadata": {},
   "outputs": [
    {
     "name": "stdout",
     "output_type": "stream",
     "text": [
      "             CycleTime\n",
      "Work Centre           \n",
      "WC041        68.494845\n",
      "WC011        43.804124\n",
      "WC006        37.750000\n",
      "WC029        29.500000\n",
      "WC023        22.587302\n",
      "WC009        19.032847\n",
      "WC005        18.331731\n",
      "WC007        17.250000\n",
      "WC012        16.508197\n",
      "WC010        15.056604\n",
      "WC032        14.828125\n",
      "WC031        14.631579\n",
      "WC033        13.700000\n",
      "WC024        13.636364\n",
      "WC028        12.692308\n",
      "WC039        11.961832\n",
      "WC008        11.941176\n",
      "WC034        11.510638\n",
      "WC027        11.492462\n",
      "WC026         9.960526\n",
      "WC017         9.236842\n",
      "WC015         9.004386\n",
      "WC020         8.714286\n",
      "WC016         8.689655\n",
      "WC036         8.212121\n",
      "WC025         7.969697\n",
      "WC022         7.927536\n",
      "WC019         7.354839\n",
      "WC018         7.223529\n",
      "WC035         7.192308\n",
      "WC021         6.844237\n",
      "WC038         6.802469\n",
      "WC001         6.704082\n",
      "WC014         6.491639\n",
      "WC013         6.292958\n",
      "WC030         4.959459\n",
      "WC003         4.769231\n",
      "WC037         4.517241\n",
      "WC002         2.637887\n",
      "WC004         2.126306\n"
     ]
    }
   ],
   "source": [
    "#Work Centre by cycletime\n",
    "WC_CycleTime = Order_wc.pivot_table(values='CycleTime', index='Work Centre', aggfunc=np.mean).sort_values(['CycleTime'], ascending=False)\n",
    "print(WC_CycleTime)"
   ]
  },
  {
   "cell_type": "code",
   "execution_count": 13,
   "id": "cb1358da-3930-49aa-bfdd-5fef305a5afa",
   "metadata": {},
   "outputs": [
    {
     "name": "stdout",
     "output_type": "stream",
     "text": [
      "     DLV Month Work Centre  CycleTime\n",
      "0            1       WC001   9.066667\n",
      "1            1       WC002   5.980952\n",
      "2            1       WC003   7.523438\n",
      "3            1       WC004   4.251748\n",
      "4            1       WC005  18.774194\n",
      "..         ...         ...        ...\n",
      "433         12       WC036   4.000000\n",
      "434         12       WC037  22.000000\n",
      "435         12       WC038   7.500000\n",
      "436         12       WC039   9.714286\n",
      "437         12       WC041  35.800000\n",
      "\n",
      "[438 rows x 3 columns]\n"
     ]
    }
   ],
   "source": [
    "# Grouping by Work Centre by DLV month\n",
    "CT_mth_wc = Order_wc.groupby(['DLV Month','Work Centre']).mean().reset_index()\n",
    "print(CT_mth_wc)"
   ]
  },
  {
   "cell_type": "code",
   "execution_count": 14,
   "id": "6a208f82-e927-4cfc-8e53-e0de2cf02e86",
   "metadata": {},
   "outputs": [
    {
     "name": "stdout",
     "output_type": "stream",
     "text": [
      "                 amin      amax      mean       std\n",
      "            CycleTime CycleTime CycleTime CycleTime\n",
      "Work Centre                                        \n",
      "WC002               0        30  2.637887  3.830817\n",
      "                 amin      amax      mean       std\n",
      "            CycleTime CycleTime CycleTime CycleTime\n",
      "Work Centre                                        \n",
      "WC013               1        35  6.292958   4.27758\n",
      "                 amin      amax      mean       std\n",
      "            CycleTime CycleTime CycleTime CycleTime\n",
      "Work Centre                                        \n",
      "WC015               1        94  9.004386    9.9378\n",
      "                 amin      amax      mean       std\n",
      "            CycleTime CycleTime CycleTime CycleTime\n",
      "Work Centre                                        \n",
      "WC020               2        34  8.714286  6.133665\n",
      "                 amin      amax      mean       std\n",
      "            CycleTime CycleTime CycleTime CycleTime\n",
      "Work Centre                                        \n",
      "WC026               1        35  9.960526  7.206369\n",
      "                 amin      amax      mean       std\n",
      "            CycleTime CycleTime CycleTime CycleTime\n",
      "Work Centre                                        \n",
      "WC030               1        15  4.959459  2.407224\n"
     ]
    }
   ],
   "source": [
    "# Focus on specific WorkCentres\n",
    "for WC in Focus_WC :\n",
    "    WC_stats = Order_wc[Order_wc['Work Centre'] == WC].pivot_table(values='CycleTime', index='Work Centre', aggfunc=[np.min, np.max, np.mean, np.std])\n",
    "    print(WC_stats)"
   ]
  },
  {
   "cell_type": "code",
   "execution_count": 15,
   "id": "a933fbd2-ab96-4bc5-a6fd-ff3c1c85ebbc",
   "metadata": {},
   "outputs": [
    {
     "name": "stdout",
     "output_type": "stream",
     "text": [
      "              amin      amax      mean       std\n",
      "         CycleTime CycleTime CycleTime CycleTime\n",
      "Material                                        \n",
      "PN 54264         3        21  6.538462  4.557327\n",
      "              amin      amax      mean       std\n",
      "         CycleTime CycleTime CycleTime CycleTime\n",
      "Material                                        \n",
      "PN 59653         2        14  4.676471  2.576827\n",
      "              amin      amax      mean\n",
      "         CycleTime CycleTime CycleTime\n",
      "Material                              \n",
      "PN 60234        30        30        30\n",
      "              amin      amax      mean       std\n",
      "         CycleTime CycleTime CycleTime CycleTime\n",
      "Material                                        \n",
      "PN 53784         3        13  7.333333  3.605551\n",
      "              amin      amax      mean        std\n",
      "         CycleTime CycleTime CycleTime  CycleTime\n",
      "Material                                         \n",
      "PN 54040         6        43      14.9  10.948871\n"
     ]
    }
   ],
   "source": [
    "# Focus on specific parts\n",
    "for PN in Focus_Part :\n",
    "    Part_stats = Order_wc[Order_wc['Material'] == PN].pivot_table(values='CycleTime', index='Material', aggfunc=[np.min, np.max, np.mean, np.std])\n",
    "    print(Part_stats)"
   ]
  },
  {
   "cell_type": "code",
   "execution_count": 16,
   "id": "77404ced-32de-41c8-928e-ddf3cb76196d",
   "metadata": {},
   "outputs": [
    {
     "name": "stdout",
     "output_type": "stream",
     "text": [
      "          Order\n",
      "Material       \n",
      "PN 62637     80\n",
      "PN 54545     78\n",
      "PN 67603     75\n",
      "PN 63450     75\n",
      "PN 63087     71\n",
      "PN 62573     69\n",
      "PN 59653     68\n",
      "PN 62927     54\n",
      "PN 66874     51\n",
      "PN 70536     49\n",
      "PN 64912     47\n",
      "PN 51722     47\n",
      "PN 64916     43\n",
      "PN 70281     42\n",
      "PN 69931     42\n",
      "PN 63013     41\n",
      "PN 67731     41\n",
      "PN 63661     39\n",
      "PN 67720     38\n",
      "PN 64216     37\n"
     ]
    }
   ],
   "source": [
    "# Parts manufactured most frequently\n",
    "Top_20_parts = Order_wc.pivot_table(values='Order', index='Material', aggfunc='count').sort_values(['Order'],ascending=False).head(20)\n",
    "print(Top_20_parts)"
   ]
  },
  {
   "cell_type": "code",
   "execution_count": 17,
   "id": "e2c3885e-2851-4954-8aa6-43e920acee07",
   "metadata": {},
   "outputs": [
    {
     "data": {
      "image/png": "[encoded data removed]",
      "text/plain": [
       "<Figure size 432x288 with 1 Axes>"
      ]
     },
     "metadata": {
      "needs_background": "light"
     },
     "output_type": "display_data"
    },
    {
     "data": {
      "image/png": "[encoded data removed]",
      "text/plain": [
       "<Figure size 432x288 with 1 Axes>"
      ]
     },
     "metadata": {
      "needs_background": "light"
     },
     "output_type": "display_data"
    },
    {
     "data": {
      "image/png": "[encoded data removed]",
      "text/plain": [
       "<Figure size 432x288 with 1 Axes>"
      ]
     },
     "metadata": {
      "needs_background": "light"
     },
     "output_type": "display_data"
    },
    {
     "data": {
      "image/png": "[encoded data removed]",
      "text/plain": [
       "<Figure size 432x288 with 1 Axes>"
      ]
     },
     "metadata": {
      "needs_background": "light"
     },
     "output_type": "display_data"
    },
    {
     "data": {
      "image/png": "[encoded data removed]",
      "text/plain": [
       "<Figure size 432x288 with 1 Axes>"
      ]
     },
     "metadata": {
      "needs_background": "light"
     },
     "output_type": "display_data"
    },
    {
     "data": {
      "image/png": "[encoded data removed]",
      "text/plain": [
       "<Figure size 432x288 with 1 Axes>"
      ]
     },
     "metadata": {
      "needs_background": "light"
     },
     "output_type": "display_data"
    }
   ],
   "source": [
    "# Visualise data\n",
    "\n",
    "# Histogram of focus work centres \n",
    "for WC in Focus_WC :\n",
    "    Order_wc_Fpn = Order_wc[Order_wc['Work Centre'] == WC]\n",
    "    plt.hist(Order_wc_Fpn['CycleTime'])\n",
    "    plt.suptitle('Work Centre - ' + WC)\n",
    "    plt.xlabel('CycleTime (days)')\n",
    "    plt.ylabel('count of Orders')\n",
    "    plt.show()"
   ]
  },
  {
   "cell_type": "code",
   "execution_count": 18,
   "id": "05aced1f-0ae5-48df-a928-9cf227c59e35",
   "metadata": {},
   "outputs": [
    {
     "data": {
      "image/png": "[encoded data removed]",
      "text/plain": [
       "<Figure size 432x288 with 1 Axes>"
      ]
     },
     "metadata": {
      "needs_background": "light"
     },
     "output_type": "display_data"
    },
    {
     "data": {
      "image/png": "[encoded data removed]",
      "text/plain": [
       "<Figure size 432x288 with 1 Axes>"
      ]
     },
     "metadata": {
      "needs_background": "light"
     },
     "output_type": "display_data"
    },
    {
     "data": {
      "image/png": "[encoded data removed]",
      "text/plain": [
       "<Figure size 432x288 with 1 Axes>"
      ]
     },
     "metadata": {
      "needs_background": "light"
     },
     "output_type": "display_data"
    },
    {
     "data": {
      "image/png": "[encoded data removed]",
      "text/plain": [
       "<Figure size 432x288 with 1 Axes>"
      ]
     },
     "metadata": {
      "needs_background": "light"
     },
     "output_type": "display_data"
    },
    {
     "data": {
      "image/png": "[encoded data removed]",
      "text/plain": [
       "<Figure size 432x288 with 1 Axes>"
      ]
     },
     "metadata": {
      "needs_background": "light"
     },
     "output_type": "display_data"
    }
   ],
   "source": [
    "# # Histogram of focus parts \n",
    "for part in Focus_Part :\n",
    "    Order_wc_Fpn = Order_wc[Order_wc['Material'] == part]\n",
    "    plt.hist(Order_wc_Fpn['CycleTime'])\n",
    "    plt.suptitle('Material - ' + part)\n",
    "    plt.xlabel('CycleTime (days)')\n",
    "    plt.ylabel('count of Orders')\n",
    "    plt.show()"
   ]
  },
  {
   "cell_type": "code",
   "execution_count": 19,
   "id": "9b1b9bbd-c08d-48a5-a9c8-1429a995b5b3",
   "metadata": {},
   "outputs": [
    {
     "name": "stdout",
     "output_type": "stream",
     "text": [
      "AxesSubplot(0.125,0.2;0.775x0.68)\n"
     ]
    },
    {
     "data": {
      "image/png": "[encoded data removed]",
      "text/plain": [
       "<Figure size 432x288 with 1 Axes>"
      ]
     },
     "metadata": {
      "needs_background": "light"
     },
     "output_type": "display_data"
    }
   ],
   "source": [
    "# Time-series \n",
    "\n",
    "Order_wc.set_index('DLV Date', inplace=True)\n",
    "print(Order_wc['CycleTime'].plot())"
   ]
  },
  {
   "cell_type": "code",
   "execution_count": 20,
   "id": "34876d5f-d94a-46a5-a941-35c878020943",
   "metadata": {},
   "outputs": [
    {
     "name": "stdout",
     "output_type": "stream",
     "text": [
      "AxesSubplot(0.125,0.125;0.775x0.755)\n"
     ]
    },
    {
     "data": {
      "image/png": "[encoded data removed]",
      "text/plain": [
       "<Figure size 432x288 with 1 Axes>"
      ]
     },
     "metadata": {
      "needs_background": "light"
     },
     "output_type": "display_data"
    }
   ],
   "source": [
    "# Time-series by month\n",
    "Order_wc_avg = Order_wc.resample('M').mean()\n",
    "Order_wc_avg.index = Order_wc_avg.index.to_period('M')\n",
    "Order_wc_avg.head()\n",
    "print(Order_wc_avg['CycleTime'].plot())"
   ]
  }
 ],
 "metadata": {
  "kernelspec": {
   "display_name": "anaconda-2022.05-py39",
   "language": "python",
   "name": "conda-env-anaconda-2022.05-py39-py"
  },
  "language_info": {
   "codemirror_mode": {
    "name": "ipython",
    "version": 3
   },
   "file_extension": ".py",
   "mimetype": "text/x-python",
   "name": "python",
   "nbconvert_exporter": "python",
   "pygments_lexer": "ipython3",
   "version": "3.9.12"
  },
  "toc-showcode": true,
  "toc-showmarkdowntxt": false,
  "toc-showtags": false
 },
 "nbformat": 4,
 "nbformat_minor": 5
}
